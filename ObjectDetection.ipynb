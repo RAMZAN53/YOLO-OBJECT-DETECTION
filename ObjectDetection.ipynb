{
  "metadata": {
    "kernelspec": {
      "name": "python",
      "display_name": "Python (Pyodide)",
      "language": "python"
    },
    "language_info": {
      "codemirror_mode": {
        "name": "python",
        "version": 3
      },
      "file_extension": ".py",
      "mimetype": "text/x-python",
      "name": "python",
      "nbconvert_exporter": "python",
      "pygments_lexer": "ipython3",
      "version": "3.8"
    }
  },
  "nbformat_minor": 5,
  "nbformat": 4,
  "cells": [
    {
      "id": "207a70c6-8f54-458e-897c-b03ea4fb67b1",
      "cell_type": "code",
      "source": "import cv2\nimport numpy as np",
      "metadata": {
        "trusted": true
      },
      "outputs": [],
      "execution_count": 1
    },
    {
      "id": "c9da6861-2194-4700-8c5f-b377506d597b",
      "cell_type": "code",
      "source": "# Load YOLO model\nyolo_config = r\"C:\\\\Users\\\\DoctorComputers\\\\Desktop\\\\Object_Detection\\\\yolov3.cfg\"\nyolo_weights = r\"C:\\\\Users\\\\DoctorComputers\\\\Desktop\\\\Object_Detection\\\\yolov3.weights\"\nyolo_classes = r\"C:\\\\Users\\\\DoctorComputers\\\\Desktop\\\\Object_Detection\\\\coco.names\"",
      "metadata": {
        "trusted": true
      },
      "outputs": [],
      "execution_count": 10
    },
    {
      "id": "113e7ef1-ec78-4a41-af87-e7a32d2b4006",
      "cell_type": "code",
      "source": "# Load class labels\nwith open(yolo_classes, \"r\") as f:\n    classes = [line.strip() for line in f.readlines()]",
      "metadata": {
        "trusted": true
      },
      "outputs": [
        {
          "ename": "<class 'FileNotFoundError'>",
          "evalue": "[Errno 44] No such file or directory: 'C:\\\\\\\\Users\\\\\\\\DoctorComputers\\\\\\\\Desktop\\\\\\\\Object_Detection\\\\\\\\coco.names'",
          "traceback": [
            "\u001b[0;31m---------------------------------------------------------------------------\u001b[0m",
            "\u001b[0;31mFileNotFoundError\u001b[0m                         Traceback (most recent call last)",
            "Cell \u001b[0;32mIn[11], line 2\u001b[0m\n\u001b[1;32m      1\u001b[0m \u001b[38;5;66;03m# Load class labels\u001b[39;00m\n\u001b[0;32m----> 2\u001b[0m \u001b[38;5;28;01mwith\u001b[39;00m \u001b[38;5;28;43mopen\u001b[39;49m\u001b[43m(\u001b[49m\u001b[43myolo_classes\u001b[49m\u001b[43m,\u001b[49m\u001b[43m \u001b[49m\u001b[38;5;124;43m\"\u001b[39;49m\u001b[38;5;124;43mr\u001b[39;49m\u001b[38;5;124;43m\"\u001b[39;49m\u001b[43m)\u001b[49m \u001b[38;5;28;01mas\u001b[39;00m f:\n\u001b[1;32m      3\u001b[0m     classes \u001b[38;5;241m=\u001b[39m [line\u001b[38;5;241m.\u001b[39mstrip() \u001b[38;5;28;01mfor\u001b[39;00m line \u001b[38;5;129;01min\u001b[39;00m f\u001b[38;5;241m.\u001b[39mreadlines()]\n",
            "File \u001b[0;32m/lib/python3.12/site-packages/IPython/core/interactiveshell.py:324\u001b[0m, in \u001b[0;36m_modified_open\u001b[0;34m(file, *args, **kwargs)\u001b[0m\n\u001b[1;32m    317\u001b[0m \u001b[38;5;28;01mif\u001b[39;00m file \u001b[38;5;129;01min\u001b[39;00m {\u001b[38;5;241m0\u001b[39m, \u001b[38;5;241m1\u001b[39m, \u001b[38;5;241m2\u001b[39m}:\n\u001b[1;32m    318\u001b[0m     \u001b[38;5;28;01mraise\u001b[39;00m \u001b[38;5;167;01mValueError\u001b[39;00m(\n\u001b[1;32m    319\u001b[0m         \u001b[38;5;124mf\u001b[39m\u001b[38;5;124m\"\u001b[39m\u001b[38;5;124mIPython won\u001b[39m\u001b[38;5;124m'\u001b[39m\u001b[38;5;124mt let you open fd=\u001b[39m\u001b[38;5;132;01m{\u001b[39;00mfile\u001b[38;5;132;01m}\u001b[39;00m\u001b[38;5;124m by default \u001b[39m\u001b[38;5;124m\"\u001b[39m\n\u001b[1;32m    320\u001b[0m         \u001b[38;5;124m\"\u001b[39m\u001b[38;5;124mas it is likely to crash IPython. If you know what you are doing, \u001b[39m\u001b[38;5;124m\"\u001b[39m\n\u001b[1;32m    321\u001b[0m         \u001b[38;5;124m\"\u001b[39m\u001b[38;5;124myou can use builtins\u001b[39m\u001b[38;5;124m'\u001b[39m\u001b[38;5;124m open.\u001b[39m\u001b[38;5;124m\"\u001b[39m\n\u001b[1;32m    322\u001b[0m     )\n\u001b[0;32m--> 324\u001b[0m \u001b[38;5;28;01mreturn\u001b[39;00m \u001b[43mio_open\u001b[49m\u001b[43m(\u001b[49m\u001b[43mfile\u001b[49m\u001b[43m,\u001b[49m\u001b[43m \u001b[49m\u001b[38;5;241;43m*\u001b[39;49m\u001b[43margs\u001b[49m\u001b[43m,\u001b[49m\u001b[43m \u001b[49m\u001b[38;5;241;43m*\u001b[39;49m\u001b[38;5;241;43m*\u001b[39;49m\u001b[43mkwargs\u001b[49m\u001b[43m)\u001b[49m\n",
            "\u001b[0;31mFileNotFoundError\u001b[0m: [Errno 44] No such file or directory: 'C:\\\\\\\\Users\\\\\\\\DoctorComputers\\\\\\\\Desktop\\\\\\\\Object_Detection\\\\\\\\coco.names'"
          ],
          "output_type": "error"
        }
      ],
      "execution_count": 11
    },
    {
      "id": "32eafacc-0371-44cc-b936-2eaabf17de4c",
      "cell_type": "code",
      "source": "# Load YOLO model\nnet = cv2.dnn.readNet(yolo_weights, yolo_config)\nlayer_names = net.getLayerNames()\noutput_layers = [layer_names[i - 1] for i in net.getUnconnectedOutLayers()]",
      "metadata": {
        "trusted": true
      },
      "outputs": [],
      "execution_count": null
    },
    {
      "id": "81bacb9f-947b-4082-ac35-8cd4a2627acb",
      "cell_type": "code",
      "source": "# Initialize webcam\ncap = cv2.VideoCapture(0)\n\nwhile True:\n    ret, frame = cap.read()\n    if not ret:\n        break\n    \n    height, width, channels = frame.shape\n\n    # Detect objects\n    blob = cv2.dnn.blobFromImage(frame, 0.00392, (416, 416), (0, 0, 0), True, crop=False)\n    net.setInput(blob)\n    outs = net.forward(output_layers)\n\n    # Process detected objects\n    class_ids, confidences, boxes = [], [], []\n    for out in outs:\n        for detection in out:\n            scores = detection[5:]\n            class_id = np.argmax(scores)\n            confidence = scores[class_id]\n            if confidence > 0.5:  # Confidence threshold\n                center_x, center_y, w, h = (detection[0:4] * [width, height, width, height]).astype(\"int\")\n                x = int(center_x - w / 2)\n                y = int(center_y - h / 2)\n\n                boxes.append([x, y, w, h])\n                confidences.append(float(confidence))\n                class_ids.append(class_id)\n\n    # Non-maximum suppression\n    indexes = cv2.dnn.NMSBoxes(boxes, confidences, 0.5, 0.4)\n    colors = np.random.uniform(0, 255, size=(len(classes), 3))\n\n    # Draw bounding boxes\n    for i in indexes.flatten():\n        x, y, w, h = boxes[i]\n        label = f\"{classes[class_ids[i]]}: {confidences[i]:.2f}\"\n        color = colors[class_ids[i]]\n        cv2.rectangle(frame, (x, y), (x + w, y + h), color, 2)\n        cv2.putText(frame, label, (x, y - 10), cv2.FONT_HERSHEY_SIMPLEX, 0.5, color, 2)\n\n    cv2.imshow(\"YOLO Object Detection\", frame)\n\n    # Press 'q' to exit\n    if cv2.waitKey(1) & 0xFF == ord(\"q\"):\n        break\n\ncap.release()\ncv2.destroyAllWindows()",
      "metadata": {
        "trusted": true
      },
      "outputs": [],
      "execution_count": null
    },
    {
      "id": "83dfe0a4-7efe-4b0d-ace6-54814ade0b82",
      "cell_type": "code",
      "source": "import os\n\npath = r\"C:\\Users\\DoctorComputers\\Desktop\\Object_Detection\"\nprint(os.listdir(path))  # List all files in the directory",
      "metadata": {
        "trusted": true
      },
      "outputs": [
        {
          "ename": "<class 'FileNotFoundError'>",
          "evalue": "[Errno 44] No such file or directory: 'C:\\\\Users\\\\DoctorComputers\\\\Desktop\\\\Object_Detection'",
          "traceback": [
            "\u001b[0;31m---------------------------------------------------------------------------\u001b[0m",
            "\u001b[0;31mFileNotFoundError\u001b[0m                         Traceback (most recent call last)",
            "Cell \u001b[0;32mIn[13], line 4\u001b[0m\n\u001b[1;32m      1\u001b[0m \u001b[38;5;28;01mimport\u001b[39;00m \u001b[38;5;21;01mos\u001b[39;00m\n\u001b[1;32m      3\u001b[0m path \u001b[38;5;241m=\u001b[39m \u001b[38;5;124mr\u001b[39m\u001b[38;5;124m\"\u001b[39m\u001b[38;5;124mC:\u001b[39m\u001b[38;5;124m\\\u001b[39m\u001b[38;5;124mUsers\u001b[39m\u001b[38;5;124m\\\u001b[39m\u001b[38;5;124mDoctorComputers\u001b[39m\u001b[38;5;124m\\\u001b[39m\u001b[38;5;124mDesktop\u001b[39m\u001b[38;5;124m\\\u001b[39m\u001b[38;5;124mObject_Detection\u001b[39m\u001b[38;5;124m\"\u001b[39m\n\u001b[0;32m----> 4\u001b[0m \u001b[38;5;28mprint\u001b[39m(\u001b[43mos\u001b[49m\u001b[38;5;241;43m.\u001b[39;49m\u001b[43mlistdir\u001b[49m\u001b[43m(\u001b[49m\u001b[43mpath\u001b[49m\u001b[43m)\u001b[49m)  \u001b[38;5;66;03m# List all files in the directory\u001b[39;00m\n",
            "\u001b[0;31mFileNotFoundError\u001b[0m: [Errno 44] No such file or directory: 'C:\\\\Users\\\\DoctorComputers\\\\Desktop\\\\Object_Detection'"
          ],
          "output_type": "error"
        }
      ],
      "execution_count": 13
    },
    {
      "id": "de05d4d0-3b10-4c1c-b3c4-f31ca68a7e2d",
      "cell_type": "code",
      "source": "",
      "metadata": {
        "trusted": true
      },
      "outputs": [],
      "execution_count": null
    }
  ]
}